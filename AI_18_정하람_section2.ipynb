{
  "nbformat": 4,
  "nbformat_minor": 0,
  "metadata": {
    "colab": {
      "provenance": [],
      "include_colab_link": true
    },
    "kernelspec": {
      "display_name": "Python 3",
      "language": "python",
      "name": "python3"
    },
    "language_info": {
      "codemirror_mode": {
        "name": "ipython",
        "version": 3
      },
      "file_extension": ".py",
      "mimetype": "text/x-python",
      "name": "python",
      "nbconvert_exporter": "python",
      "pygments_lexer": "ipython3",
      "version": "3.7.6"
    }
  },
  "cells": [
    {
      "cell_type": "markdown",
      "metadata": {
        "id": "view-in-github",
        "colab_type": "text"
      },
      "source": [
        "<a href=\"https://colab.research.google.com/github/DTfriend/project-2nd/blob/main/AI_18_%EC%A0%95%ED%95%98%EB%9E%8C_section2.ipynb\" target=\"_parent\"><img src=\"https://colab.research.google.com/assets/colab-badge.svg\" alt=\"Open In Colab\"/></a>"
      ]
    },
    {
      "cell_type": "markdown",
      "metadata": {
        "id": "Oc9xGL--9Kni"
      },
      "source": [
        "# Project\n",
        "\n",
        "---\n",
        "###1. 문제 정의 및 데이터 선정 이유 (DAY 1)\n",
        "\n",
        "해결하고자 하는 문제를 구체적인 상황으로 제시합니다.  \n",
        "문제 해결의 필요성에 대해 명확히 제시합니다.  \n",
        "데이터셋 선정이 끝났다면 어떤 유형의 문제로 (분류 / 회귀) 접근할지 결정합니다.  \n",
        "데이터셋에서 해결하고자 하는 문제 정의에 적절한 타겟을 선정합니다.  \n",
        "타겟을 잘 설명할 수 있을 만한 특성에 대한 가설을 설정합니다.  \n",
        "‘여행지에 따라 티켓가격이 달라질 것이다.’ 와 같은 당연한 가설이 아닌   비즈니스적으로 인사이트를 도출할 수 있을만한 가설을 설정합니다.\n",
        "\n",
        "###2. 데이터 전처리, EDA, 시각화(DAY 2)\n",
        "\n",
        "머신러닝에 적합한 형태로 데이터 타입을 변경합니다.  \n",
        "여러 테크닉을 사용해 결측치를 적절히 처리합니다.  \n",
        "본인의 전처리 과정에 대해 근거를 들어 설명합니다.  \n",
        "피쳐의 분포를 확인하고 이상치를 적절히 제거합니다.  \n",
        "1에서 세운 가설과 관련된 시각화 결과를 제시합니다.  \n",
        "  \n",
        "###3. 모델링 및 모델 해석(DAY 2,3)\n",
        "baseline 모델을 선정하고 이에 기반해 모델링 성능을 평가합니다.  \n",
        "다양한 Feature Engineering 과정을 통해 모델 성능을 최적화합니다.  \n",
        "문제 정의에 맞는 평가 지표를 선택하여 모델의 성능을 설명합니다.  \n",
        "교차검증이나 hold-out 기법을 사용해 학습 성능과 일반화 성능을 구분하여 제시합니다.  \n",
        "여러 수치적 지표 및 permutation importance, pdp등을 활용하여 최종모델을 설명합니다. 시각화는 설명이 가장 중요합니다.  \n",
        "1에서 제시한 가설을 해결하고 인사이트를 도출합니다.  \n",
        "\n",
        "###4. 발표자료 준비 및 제출(DAY 4)\n",
        "\n",
        "설정한 가설의 해소 과정을 논리적으로 제시합니다.  \n",
        "본인의 프로젝트를 회고하고 보완할 점을 제시합니다.  "
      ]
    },
    {
      "cell_type": "markdown",
      "source": [
        "###태스크를 수행한 후, 다음 질문에 대답할 수 있어야 합니다.\n",
        "\n",
        "1.  \n",
        "내가 세운 가설이 문제 해결에 의미가 있나요?  \n",
        "해당 특성을 target으로 지정한 이유를 설명하세요.  \n",
        "\n",
        "2.  \n",
        "Data Leakage가 있었나요? 없었다면 어떻게 방지했나요?  \n",
        "특성과 타겟의 관계 및 가설을 충분히 설명할 수 있는 시각화 결과를 제시했나요?  \n",
        "전처리 과정에 대한 근거와 설명이 있나요?  \n",
        "\n",
        "3.  \n",
        "모델을 학습한 후에 베이스라인보다 잘 나왔나요?  \n",
        "그렇지 않다면 그 이유는 무엇일까요?  \n",
        "모델 성능 개선을 위해 어떤 방법을 적용했나요?  \n",
        "그 방법을 선택한 이유는 무엇인가요?  \n",
        "최종 모델과 일반화 성능에 관해 설명하세요.  \n",
        "모델이 예측을 수행하기 위해서 어떤 특성을 활용했나요?  \n",
        "\n",
        "4.  \n",
        "설정한 가설의 해소 과정을 논리적으로 제시합니다.  \n",
        "본인의 프로젝트를 회고하고 보완할 점을 제시합니다.  \n",
        "\n",
        "fin.  \n",
        "프로젝트의 기본적인 체크리스트를 모두 만족했나요?  \n",
        "영상과 발표 자료의 파일명이 가이드에서 제시한 파일명과 일치한가요?  "
      ],
      "metadata": {
        "id": "5DeJacHHt15W"
      }
    },
    {
      "cell_type": "markdown",
      "metadata": {
        "id": "f5zLo8IMC2NO"
      },
      "source": [
        "## 1.환경 준비"
      ]
    },
    {
      "cell_type": "markdown",
      "metadata": {
        "id": "Lg70N9SXUKc4"
      },
      "source": [
        "### (1) 라이브러리"
      ]
    },
    {
      "cell_type": "code",
      "source": [
        "!pip install pdpbox\n",
        "!pip install shap"
      ],
      "metadata": {
        "colab": {
          "base_uri": "https://localhost:8080/"
        },
        "id": "O63bPn8UsNc-",
        "outputId": "56994968-d08f-492c-e66e-7b42ca819929"
      },
      "execution_count": 1,
      "outputs": [
        {
          "output_type": "stream",
          "name": "stdout",
          "text": [
            "Looking in indexes: https://pypi.org/simple, https://us-python.pkg.dev/colab-wheels/public/simple/\n",
            "Collecting pdpbox\n",
            "  Using cached PDPbox-0.2.1.tar.gz (34.0 MB)\n",
            "  Preparing metadata (setup.py) ... \u001b[?25l\u001b[?25hdone\n",
            "Requirement already satisfied: pandas in /usr/local/lib/python3.9/dist-packages (from pdpbox) (1.5.3)\n",
            "Requirement already satisfied: numpy in /usr/local/lib/python3.9/dist-packages (from pdpbox) (1.22.4)\n",
            "Requirement already satisfied: scipy in /usr/local/lib/python3.9/dist-packages (from pdpbox) (1.10.1)\n",
            "Requirement already satisfied: joblib in /usr/local/lib/python3.9/dist-packages (from pdpbox) (1.2.0)\n",
            "Requirement already satisfied: psutil in /usr/local/lib/python3.9/dist-packages (from pdpbox) (5.9.4)\n",
            "Collecting matplotlib==3.1.1\n",
            "  Using cached matplotlib-3.1.1.tar.gz (37.8 MB)\n",
            "  Preparing metadata (setup.py) ... \u001b[?25l\u001b[?25hdone\n",
            "Collecting sklearn\n",
            "  Using cached sklearn-0.0.post1.tar.gz (3.6 kB)\n",
            "  Preparing metadata (setup.py) ... \u001b[?25l\u001b[?25hdone\n",
            "Requirement already satisfied: cycler>=0.10 in /usr/local/lib/python3.9/dist-packages (from matplotlib==3.1.1->pdpbox) (0.11.0)\n",
            "Requirement already satisfied: kiwisolver>=1.0.1 in /usr/local/lib/python3.9/dist-packages (from matplotlib==3.1.1->pdpbox) (1.4.4)\n",
            "Requirement already satisfied: pyparsing!=2.0.4,!=2.1.2,!=2.1.6,>=2.0.1 in /usr/local/lib/python3.9/dist-packages (from matplotlib==3.1.1->pdpbox) (3.0.9)\n",
            "Requirement already satisfied: python-dateutil>=2.1 in /usr/local/lib/python3.9/dist-packages (from matplotlib==3.1.1->pdpbox) (2.8.2)\n",
            "Requirement already satisfied: pytz>=2020.1 in /usr/local/lib/python3.9/dist-packages (from pandas->pdpbox) (2022.7.1)\n",
            "Requirement already satisfied: six>=1.5 in /usr/local/lib/python3.9/dist-packages (from python-dateutil>=2.1->matplotlib==3.1.1->pdpbox) (1.16.0)\n",
            "Building wheels for collected packages: pdpbox, matplotlib, sklearn\n",
            "  Building wheel for pdpbox (setup.py) ... \u001b[?25l\u001b[?25hdone\n",
            "  Created wheel for pdpbox: filename=PDPbox-0.2.1-py3-none-any.whl size=35758224 sha256=0c5313da60b4bcb98e37a8003b5d53faad465c43c85961b7e43d269c43f5ee80\n",
            "  Stored in directory: /root/.cache/pip/wheels/f2/5e/63/62e00a642415e064a55f53b5095ceb1420d24685125420d3ac\n",
            "  Building wheel for matplotlib (setup.py) ... \u001b[?25l\u001b[?25hdone\n",
            "  Created wheel for matplotlib: filename=matplotlib-3.1.1-cp39-cp39-linux_x86_64.whl size=12060117 sha256=ba88e8c18532ee776c17a504393fb9c77cfea40a2da3b179236a4d7347b7b7bf\n",
            "  Stored in directory: /root/.cache/pip/wheels/25/d0/ab/05f776f079a53f4c6a12c98220910f4d0d245609b8c673a5ad\n",
            "  Building wheel for sklearn (setup.py) ... \u001b[?25l\u001b[?25hdone\n",
            "  Created wheel for sklearn: filename=sklearn-0.0.post1-py3-none-any.whl size=2955 sha256=0f6c9852ea41b710002745326724e63a9f3422663362c5a0e3d5e728e90d77b3\n",
            "  Stored in directory: /root/.cache/pip/wheels/f8/e0/3d/9d0c2020c44a519b9f02ab4fa6d2a4a996c98d79ab2f569fa1\n",
            "Successfully built pdpbox matplotlib sklearn\n",
            "Installing collected packages: sklearn, matplotlib, pdpbox\n",
            "  Attempting uninstall: matplotlib\n",
            "    Found existing installation: matplotlib 3.7.1\n",
            "    Uninstalling matplotlib-3.7.1:\n",
            "      Successfully uninstalled matplotlib-3.7.1\n",
            "\u001b[31mERROR: pip's dependency resolver does not currently take into account all the packages that are installed. This behaviour is the source of the following dependency conflicts.\n",
            "plotnine 0.10.1 requires matplotlib>=3.5.0, but you have matplotlib 3.1.1 which is incompatible.\n",
            "mizani 0.8.1 requires matplotlib>=3.5.0, but you have matplotlib 3.1.1 which is incompatible.\n",
            "arviz 0.15.1 requires matplotlib>=3.2, but you have matplotlib 3.1.1 which is incompatible.\u001b[0m\u001b[31m\n",
            "\u001b[0mSuccessfully installed matplotlib-3.1.1 pdpbox-0.2.1 sklearn-0.0.post1\n",
            "Looking in indexes: https://pypi.org/simple, https://us-python.pkg.dev/colab-wheels/public/simple/\n",
            "Requirement already satisfied: shap in /usr/local/lib/python3.9/dist-packages (0.41.0)\n",
            "Requirement already satisfied: scikit-learn in /usr/local/lib/python3.9/dist-packages (from shap) (1.2.2)\n",
            "Requirement already satisfied: tqdm>4.25.0 in /usr/local/lib/python3.9/dist-packages (from shap) (4.65.0)\n",
            "Requirement already satisfied: scipy in /usr/local/lib/python3.9/dist-packages (from shap) (1.10.1)\n",
            "Requirement already satisfied: slicer==0.0.7 in /usr/local/lib/python3.9/dist-packages (from shap) (0.0.7)\n",
            "Requirement already satisfied: packaging>20.9 in /usr/local/lib/python3.9/dist-packages (from shap) (23.0)\n",
            "Requirement already satisfied: pandas in /usr/local/lib/python3.9/dist-packages (from shap) (1.5.3)\n",
            "Requirement already satisfied: numpy in /usr/local/lib/python3.9/dist-packages (from shap) (1.22.4)\n",
            "Requirement already satisfied: cloudpickle in /usr/local/lib/python3.9/dist-packages (from shap) (2.2.1)\n",
            "Requirement already satisfied: numba in /usr/local/lib/python3.9/dist-packages (from shap) (0.56.4)\n",
            "Requirement already satisfied: llvmlite<0.40,>=0.39.0dev0 in /usr/local/lib/python3.9/dist-packages (from numba->shap) (0.39.1)\n",
            "Requirement already satisfied: setuptools in /usr/local/lib/python3.9/dist-packages (from numba->shap) (67.6.1)\n",
            "Requirement already satisfied: pytz>=2020.1 in /usr/local/lib/python3.9/dist-packages (from pandas->shap) (2022.7.1)\n",
            "Requirement already satisfied: python-dateutil>=2.8.1 in /usr/local/lib/python3.9/dist-packages (from pandas->shap) (2.8.2)\n",
            "Requirement already satisfied: threadpoolctl>=2.0.0 in /usr/local/lib/python3.9/dist-packages (from scikit-learn->shap) (3.1.0)\n",
            "Requirement already satisfied: joblib>=1.1.1 in /usr/local/lib/python3.9/dist-packages (from scikit-learn->shap) (1.2.0)\n",
            "Requirement already satisfied: six>=1.5 in /usr/local/lib/python3.9/dist-packages (from python-dateutil>=2.8.1->pandas->shap) (1.16.0)\n"
          ]
        }
      ]
    },
    {
      "cell_type": "code",
      "source": [
        "!sudo apt-get install -y fonts-nanum\n",
        "!sudo fc-cache -fv\n",
        "!rm ~/.cache/matplotlib -rf"
      ],
      "metadata": {
        "colab": {
          "base_uri": "https://localhost:8080/"
        },
        "id": "Sqca4Jsw7e0V",
        "outputId": "9a60878f-bf17-4c3c-cac6-3e97640788fa"
      },
      "execution_count": 2,
      "outputs": [
        {
          "output_type": "stream",
          "name": "stdout",
          "text": [
            "Reading package lists... Done\n",
            "Building dependency tree       \n",
            "Reading state information... Done\n",
            "fonts-nanum is already the newest version (20180306-3).\n",
            "0 upgraded, 0 newly installed, 0 to remove and 24 not upgraded.\n",
            "/usr/share/fonts: caching, new cache contents: 0 fonts, 1 dirs\n",
            "/usr/share/fonts/truetype: caching, new cache contents: 0 fonts, 3 dirs\n",
            "/usr/share/fonts/truetype/humor-sans: caching, new cache contents: 1 fonts, 0 dirs\n",
            "/usr/share/fonts/truetype/liberation: caching, new cache contents: 16 fonts, 0 dirs\n",
            "/usr/share/fonts/truetype/nanum: caching, new cache contents: 10 fonts, 0 dirs\n",
            "/usr/local/share/fonts: caching, new cache contents: 0 fonts, 0 dirs\n",
            "/root/.local/share/fonts: skipping, no such directory\n",
            "/root/.fonts: skipping, no such directory\n",
            "/usr/share/fonts/truetype: skipping, looped directory detected\n",
            "/usr/share/fonts/truetype/humor-sans: skipping, looped directory detected\n",
            "/usr/share/fonts/truetype/liberation: skipping, looped directory detected\n",
            "/usr/share/fonts/truetype/nanum: skipping, looped directory detected\n",
            "/var/cache/fontconfig: cleaning cache directory\n",
            "/root/.cache/fontconfig: not cleaning non-existent cache directory\n",
            "/root/.fontconfig: not cleaning non-existent cache directory\n",
            "fc-cache: succeeded\n"
          ]
        }
      ]
    },
    {
      "cell_type": "code",
      "source": [
        "import matplotlib.pyplot as plt\n",
        "\n",
        "plt.rc('font', family='NanumBarunGothic')\n",
        "plt.rc('axes', unicode_minus=False)"
      ],
      "metadata": {
        "id": "tdvNOhrz7g_I"
      },
      "execution_count": 3,
      "outputs": []
    },
    {
      "cell_type": "code",
      "metadata": {
        "id": "02MFOAr__9hR"
      },
      "source": [
        "# 기본 라이브러리 불러오기\n",
        "import pandas as pd\n",
        "import numpy as np\n",
        "import matplotlib.pyplot as plt\n",
        "import seaborn as sns\n",
        "import datetime\n",
        "import calendar\n",
        "import time\n",
        "import math\n",
        "from sklearn.metrics import accuracy_score, roc_curve, confusion_matrix, classification_report\n",
        "from sklearn.model_selection import train_test_split\n",
        "from sklearn.ensemble import RandomForestClassifier\n",
        "from sklearn.datasets import make_classification\n",
        "from sklearn.svm import SVC\n",
        "from sklearn.metrics import *\n",
        "from sklearn.metrics import recall_score, precision_score, f1_score\n",
        "\n",
        "# 불필요한 경고 제거\n",
        "import warnings\n",
        "warnings.filterwarnings(action='ignore')"
      ],
      "execution_count": 4,
      "outputs": []
    },
    {
      "cell_type": "markdown",
      "source": [
        "### (2) 데이터 가져오기"
      ],
      "metadata": {
        "id": "zUDi02mUuIpm"
      }
    },
    {
      "cell_type": "code",
      "source": [
        "# 데이터 불러오기 \n",
        "# df = 2022/01/01부터 2023/04/11까지의 BTC 데이터 (출처:인베스팅.com)\n",
        "# df2 = 2022/01/01부터 2023/04/11까지의 나스닥100 데이터 (출처:인베스팅.com)\n",
        "import pandas as pd\n",
        "df = pd.read_csv('https://raw.githubusercontent.com/DTfriend/project-2nd/main/BTC_USD%20%EB%B9%84%ED%8A%B8%ED%8C%8C%EC%9D%B4%EB%84%A5%EC%8A%A4%20%EA%B3%BC%EA%B1%B0%20%EB%8D%B0%EC%9D%B4%ED%84%B0%20(1).csv')\n",
        "df2 = pd.read_csv('https://raw.githubusercontent.com/DTfriend/project-2nd/main/%EB%82%98%EC%8A%A4%EB%8B%A5%20100%20%EA%B3%BC%EA%B1%B0%20%EB%8D%B0%EC%9D%B4%ED%84%B0%20(1).csv')\n",
        "display(df.head())\n",
        "print(df.shape)"
      ],
      "metadata": {
        "id": "dXEiJInpizqj",
        "colab": {
          "base_uri": "https://localhost:8080/",
          "height": 224
        },
        "outputId": "a1d82cf5-e4bc-4e94-ad5e-9fe9af38075c"
      },
      "execution_count": 5,
      "outputs": [
        {
          "output_type": "display_data",
          "data": {
            "text/plain": [
              "             날짜        종가        시가        고가        저가    거래량    변동 %\n",
              "0  2023- 04- 11  30,186.0  29,614.0  30,343.0  29,579.0  3.75K   1.93%\n",
              "1  2023- 04- 10  29,614.0  28,320.0  29,724.0  28,159.0  2.24K   4.57%\n",
              "2  2023- 04- 09  28,320.0  27,901.0  28,510.0  27,780.0  0.68K   1.50%\n",
              "3  2023- 04- 08  27,901.0  27,889.0  28,135.0  27,839.0  0.40K   0.04%\n",
              "4  2023- 04- 07  27,889.0  28,018.0  28,082.0  27,755.0  0.33K  -0.46%"
            ],
            "text/html": [
              "\n",
              "  <div id=\"df-8c846490-03a2-44d3-8dc7-7e53ad58b7c5\">\n",
              "    <div class=\"colab-df-container\">\n",
              "      <div>\n",
              "<style scoped>\n",
              "    .dataframe tbody tr th:only-of-type {\n",
              "        vertical-align: middle;\n",
              "    }\n",
              "\n",
              "    .dataframe tbody tr th {\n",
              "        vertical-align: top;\n",
              "    }\n",
              "\n",
              "    .dataframe thead th {\n",
              "        text-align: right;\n",
              "    }\n",
              "</style>\n",
              "<table border=\"1\" class=\"dataframe\">\n",
              "  <thead>\n",
              "    <tr style=\"text-align: right;\">\n",
              "      <th></th>\n",
              "      <th>날짜</th>\n",
              "      <th>종가</th>\n",
              "      <th>시가</th>\n",
              "      <th>고가</th>\n",
              "      <th>저가</th>\n",
              "      <th>거래량</th>\n",
              "      <th>변동 %</th>\n",
              "    </tr>\n",
              "  </thead>\n",
              "  <tbody>\n",
              "    <tr>\n",
              "      <th>0</th>\n",
              "      <td>2023- 04- 11</td>\n",
              "      <td>30,186.0</td>\n",
              "      <td>29,614.0</td>\n",
              "      <td>30,343.0</td>\n",
              "      <td>29,579.0</td>\n",
              "      <td>3.75K</td>\n",
              "      <td>1.93%</td>\n",
              "    </tr>\n",
              "    <tr>\n",
              "      <th>1</th>\n",
              "      <td>2023- 04- 10</td>\n",
              "      <td>29,614.0</td>\n",
              "      <td>28,320.0</td>\n",
              "      <td>29,724.0</td>\n",
              "      <td>28,159.0</td>\n",
              "      <td>2.24K</td>\n",
              "      <td>4.57%</td>\n",
              "    </tr>\n",
              "    <tr>\n",
              "      <th>2</th>\n",
              "      <td>2023- 04- 09</td>\n",
              "      <td>28,320.0</td>\n",
              "      <td>27,901.0</td>\n",
              "      <td>28,510.0</td>\n",
              "      <td>27,780.0</td>\n",
              "      <td>0.68K</td>\n",
              "      <td>1.50%</td>\n",
              "    </tr>\n",
              "    <tr>\n",
              "      <th>3</th>\n",
              "      <td>2023- 04- 08</td>\n",
              "      <td>27,901.0</td>\n",
              "      <td>27,889.0</td>\n",
              "      <td>28,135.0</td>\n",
              "      <td>27,839.0</td>\n",
              "      <td>0.40K</td>\n",
              "      <td>0.04%</td>\n",
              "    </tr>\n",
              "    <tr>\n",
              "      <th>4</th>\n",
              "      <td>2023- 04- 07</td>\n",
              "      <td>27,889.0</td>\n",
              "      <td>28,018.0</td>\n",
              "      <td>28,082.0</td>\n",
              "      <td>27,755.0</td>\n",
              "      <td>0.33K</td>\n",
              "      <td>-0.46%</td>\n",
              "    </tr>\n",
              "  </tbody>\n",
              "</table>\n",
              "</div>\n",
              "      <button class=\"colab-df-convert\" onclick=\"convertToInteractive('df-8c846490-03a2-44d3-8dc7-7e53ad58b7c5')\"\n",
              "              title=\"Convert this dataframe to an interactive table.\"\n",
              "              style=\"display:none;\">\n",
              "        \n",
              "  <svg xmlns=\"http://www.w3.org/2000/svg\" height=\"24px\"viewBox=\"0 0 24 24\"\n",
              "       width=\"24px\">\n",
              "    <path d=\"M0 0h24v24H0V0z\" fill=\"none\"/>\n",
              "    <path d=\"M18.56 5.44l.94 2.06.94-2.06 2.06-.94-2.06-.94-.94-2.06-.94 2.06-2.06.94zm-11 1L8.5 8.5l.94-2.06 2.06-.94-2.06-.94L8.5 2.5l-.94 2.06-2.06.94zm10 10l.94 2.06.94-2.06 2.06-.94-2.06-.94-.94-2.06-.94 2.06-2.06.94z\"/><path d=\"M17.41 7.96l-1.37-1.37c-.4-.4-.92-.59-1.43-.59-.52 0-1.04.2-1.43.59L10.3 9.45l-7.72 7.72c-.78.78-.78 2.05 0 2.83L4 21.41c.39.39.9.59 1.41.59.51 0 1.02-.2 1.41-.59l7.78-7.78 2.81-2.81c.8-.78.8-2.07 0-2.86zM5.41 20L4 18.59l7.72-7.72 1.47 1.35L5.41 20z\"/>\n",
              "  </svg>\n",
              "      </button>\n",
              "      \n",
              "  <style>\n",
              "    .colab-df-container {\n",
              "      display:flex;\n",
              "      flex-wrap:wrap;\n",
              "      gap: 12px;\n",
              "    }\n",
              "\n",
              "    .colab-df-convert {\n",
              "      background-color: #E8F0FE;\n",
              "      border: none;\n",
              "      border-radius: 50%;\n",
              "      cursor: pointer;\n",
              "      display: none;\n",
              "      fill: #1967D2;\n",
              "      height: 32px;\n",
              "      padding: 0 0 0 0;\n",
              "      width: 32px;\n",
              "    }\n",
              "\n",
              "    .colab-df-convert:hover {\n",
              "      background-color: #E2EBFA;\n",
              "      box-shadow: 0px 1px 2px rgba(60, 64, 67, 0.3), 0px 1px 3px 1px rgba(60, 64, 67, 0.15);\n",
              "      fill: #174EA6;\n",
              "    }\n",
              "\n",
              "    [theme=dark] .colab-df-convert {\n",
              "      background-color: #3B4455;\n",
              "      fill: #D2E3FC;\n",
              "    }\n",
              "\n",
              "    [theme=dark] .colab-df-convert:hover {\n",
              "      background-color: #434B5C;\n",
              "      box-shadow: 0px 1px 3px 1px rgba(0, 0, 0, 0.15);\n",
              "      filter: drop-shadow(0px 1px 2px rgba(0, 0, 0, 0.3));\n",
              "      fill: #FFFFFF;\n",
              "    }\n",
              "  </style>\n",
              "\n",
              "      <script>\n",
              "        const buttonEl =\n",
              "          document.querySelector('#df-8c846490-03a2-44d3-8dc7-7e53ad58b7c5 button.colab-df-convert');\n",
              "        buttonEl.style.display =\n",
              "          google.colab.kernel.accessAllowed ? 'block' : 'none';\n",
              "\n",
              "        async function convertToInteractive(key) {\n",
              "          const element = document.querySelector('#df-8c846490-03a2-44d3-8dc7-7e53ad58b7c5');\n",
              "          const dataTable =\n",
              "            await google.colab.kernel.invokeFunction('convertToInteractive',\n",
              "                                                     [key], {});\n",
              "          if (!dataTable) return;\n",
              "\n",
              "          const docLinkHtml = 'Like what you see? Visit the ' +\n",
              "            '<a target=\"_blank\" href=https://colab.research.google.com/notebooks/data_table.ipynb>data table notebook</a>'\n",
              "            + ' to learn more about interactive tables.';\n",
              "          element.innerHTML = '';\n",
              "          dataTable['output_type'] = 'display_data';\n",
              "          await google.colab.output.renderOutput(dataTable, element);\n",
              "          const docLink = document.createElement('div');\n",
              "          docLink.innerHTML = docLinkHtml;\n",
              "          element.appendChild(docLink);\n",
              "        }\n",
              "      </script>\n",
              "    </div>\n",
              "  </div>\n",
              "  "
            ]
          },
          "metadata": {}
        },
        {
          "output_type": "stream",
          "name": "stdout",
          "text": [
            "(1927, 7)\n"
          ]
        }
      ]
    },
    {
      "cell_type": "code",
      "source": [
        "display(df2.head())\n",
        "print(df2.shape)"
      ],
      "metadata": {
        "colab": {
          "base_uri": "https://localhost:8080/",
          "height": 224
        },
        "id": "VZXnrQAmWgae",
        "outputId": "5defbbae-51d6-4f55-8918-3af2100b5826"
      },
      "execution_count": 6,
      "outputs": [
        {
          "output_type": "display_data",
          "data": {
            "text/plain": [
              "             날짜         종가         시가         고가         저가      거래량    변동 %\n",
              "0  2023- 04- 11  12,967.52  13,040.93  13,049.45  12,947.88   70.95M  -0.64%\n",
              "1  2023- 04- 10  13,051.23  12,936.52  13,051.23  12,862.21  197.14M  -0.09%\n",
              "2  2023- 04- 06  13,062.60  12,886.96  13,078.03  12,847.13  229.27M   0.74%\n",
              "3  2023- 04- 05  12,967.20  13,056.79  13,063.61  12,894.66  247.05M  -1.01%\n",
              "4  2023- 04- 04  13,100.08  13,165.32  13,201.72  13,049.98  227.52M  -0.37%"
            ],
            "text/html": [
              "\n",
              "  <div id=\"df-07003bee-4c0b-4fcf-994c-2b820a0d81c4\">\n",
              "    <div class=\"colab-df-container\">\n",
              "      <div>\n",
              "<style scoped>\n",
              "    .dataframe tbody tr th:only-of-type {\n",
              "        vertical-align: middle;\n",
              "    }\n",
              "\n",
              "    .dataframe tbody tr th {\n",
              "        vertical-align: top;\n",
              "    }\n",
              "\n",
              "    .dataframe thead th {\n",
              "        text-align: right;\n",
              "    }\n",
              "</style>\n",
              "<table border=\"1\" class=\"dataframe\">\n",
              "  <thead>\n",
              "    <tr style=\"text-align: right;\">\n",
              "      <th></th>\n",
              "      <th>날짜</th>\n",
              "      <th>종가</th>\n",
              "      <th>시가</th>\n",
              "      <th>고가</th>\n",
              "      <th>저가</th>\n",
              "      <th>거래량</th>\n",
              "      <th>변동 %</th>\n",
              "    </tr>\n",
              "  </thead>\n",
              "  <tbody>\n",
              "    <tr>\n",
              "      <th>0</th>\n",
              "      <td>2023- 04- 11</td>\n",
              "      <td>12,967.52</td>\n",
              "      <td>13,040.93</td>\n",
              "      <td>13,049.45</td>\n",
              "      <td>12,947.88</td>\n",
              "      <td>70.95M</td>\n",
              "      <td>-0.64%</td>\n",
              "    </tr>\n",
              "    <tr>\n",
              "      <th>1</th>\n",
              "      <td>2023- 04- 10</td>\n",
              "      <td>13,051.23</td>\n",
              "      <td>12,936.52</td>\n",
              "      <td>13,051.23</td>\n",
              "      <td>12,862.21</td>\n",
              "      <td>197.14M</td>\n",
              "      <td>-0.09%</td>\n",
              "    </tr>\n",
              "    <tr>\n",
              "      <th>2</th>\n",
              "      <td>2023- 04- 06</td>\n",
              "      <td>13,062.60</td>\n",
              "      <td>12,886.96</td>\n",
              "      <td>13,078.03</td>\n",
              "      <td>12,847.13</td>\n",
              "      <td>229.27M</td>\n",
              "      <td>0.74%</td>\n",
              "    </tr>\n",
              "    <tr>\n",
              "      <th>3</th>\n",
              "      <td>2023- 04- 05</td>\n",
              "      <td>12,967.20</td>\n",
              "      <td>13,056.79</td>\n",
              "      <td>13,063.61</td>\n",
              "      <td>12,894.66</td>\n",
              "      <td>247.05M</td>\n",
              "      <td>-1.01%</td>\n",
              "    </tr>\n",
              "    <tr>\n",
              "      <th>4</th>\n",
              "      <td>2023- 04- 04</td>\n",
              "      <td>13,100.08</td>\n",
              "      <td>13,165.32</td>\n",
              "      <td>13,201.72</td>\n",
              "      <td>13,049.98</td>\n",
              "      <td>227.52M</td>\n",
              "      <td>-0.37%</td>\n",
              "    </tr>\n",
              "  </tbody>\n",
              "</table>\n",
              "</div>\n",
              "      <button class=\"colab-df-convert\" onclick=\"convertToInteractive('df-07003bee-4c0b-4fcf-994c-2b820a0d81c4')\"\n",
              "              title=\"Convert this dataframe to an interactive table.\"\n",
              "              style=\"display:none;\">\n",
              "        \n",
              "  <svg xmlns=\"http://www.w3.org/2000/svg\" height=\"24px\"viewBox=\"0 0 24 24\"\n",
              "       width=\"24px\">\n",
              "    <path d=\"M0 0h24v24H0V0z\" fill=\"none\"/>\n",
              "    <path d=\"M18.56 5.44l.94 2.06.94-2.06 2.06-.94-2.06-.94-.94-2.06-.94 2.06-2.06.94zm-11 1L8.5 8.5l.94-2.06 2.06-.94-2.06-.94L8.5 2.5l-.94 2.06-2.06.94zm10 10l.94 2.06.94-2.06 2.06-.94-2.06-.94-.94-2.06-.94 2.06-2.06.94z\"/><path d=\"M17.41 7.96l-1.37-1.37c-.4-.4-.92-.59-1.43-.59-.52 0-1.04.2-1.43.59L10.3 9.45l-7.72 7.72c-.78.78-.78 2.05 0 2.83L4 21.41c.39.39.9.59 1.41.59.51 0 1.02-.2 1.41-.59l7.78-7.78 2.81-2.81c.8-.78.8-2.07 0-2.86zM5.41 20L4 18.59l7.72-7.72 1.47 1.35L5.41 20z\"/>\n",
              "  </svg>\n",
              "      </button>\n",
              "      \n",
              "  <style>\n",
              "    .colab-df-container {\n",
              "      display:flex;\n",
              "      flex-wrap:wrap;\n",
              "      gap: 12px;\n",
              "    }\n",
              "\n",
              "    .colab-df-convert {\n",
              "      background-color: #E8F0FE;\n",
              "      border: none;\n",
              "      border-radius: 50%;\n",
              "      cursor: pointer;\n",
              "      display: none;\n",
              "      fill: #1967D2;\n",
              "      height: 32px;\n",
              "      padding: 0 0 0 0;\n",
              "      width: 32px;\n",
              "    }\n",
              "\n",
              "    .colab-df-convert:hover {\n",
              "      background-color: #E2EBFA;\n",
              "      box-shadow: 0px 1px 2px rgba(60, 64, 67, 0.3), 0px 1px 3px 1px rgba(60, 64, 67, 0.15);\n",
              "      fill: #174EA6;\n",
              "    }\n",
              "\n",
              "    [theme=dark] .colab-df-convert {\n",
              "      background-color: #3B4455;\n",
              "      fill: #D2E3FC;\n",
              "    }\n",
              "\n",
              "    [theme=dark] .colab-df-convert:hover {\n",
              "      background-color: #434B5C;\n",
              "      box-shadow: 0px 1px 3px 1px rgba(0, 0, 0, 0.15);\n",
              "      filter: drop-shadow(0px 1px 2px rgba(0, 0, 0, 0.3));\n",
              "      fill: #FFFFFF;\n",
              "    }\n",
              "  </style>\n",
              "\n",
              "      <script>\n",
              "        const buttonEl =\n",
              "          document.querySelector('#df-07003bee-4c0b-4fcf-994c-2b820a0d81c4 button.colab-df-convert');\n",
              "        buttonEl.style.display =\n",
              "          google.colab.kernel.accessAllowed ? 'block' : 'none';\n",
              "\n",
              "        async function convertToInteractive(key) {\n",
              "          const element = document.querySelector('#df-07003bee-4c0b-4fcf-994c-2b820a0d81c4');\n",
              "          const dataTable =\n",
              "            await google.colab.kernel.invokeFunction('convertToInteractive',\n",
              "                                                     [key], {});\n",
              "          if (!dataTable) return;\n",
              "\n",
              "          const docLinkHtml = 'Like what you see? Visit the ' +\n",
              "            '<a target=\"_blank\" href=https://colab.research.google.com/notebooks/data_table.ipynb>data table notebook</a>'\n",
              "            + ' to learn more about interactive tables.';\n",
              "          element.innerHTML = '';\n",
              "          dataTable['output_type'] = 'display_data';\n",
              "          await google.colab.output.renderOutput(dataTable, element);\n",
              "          const docLink = document.createElement('div');\n",
              "          docLink.innerHTML = docLinkHtml;\n",
              "          element.appendChild(docLink);\n",
              "        }\n",
              "      </script>\n",
              "    </div>\n",
              "  </div>\n",
              "  "
            ]
          },
          "metadata": {}
        },
        {
          "output_type": "stream",
          "name": "stdout",
          "text": [
            "(1327, 7)\n"
          ]
        }
      ]
    },
    {
      "cell_type": "markdown",
      "source": [
        "### (3) 필요한 함수 만들기\n"
      ],
      "metadata": {
        "id": "1Tc-WW3puK_T"
      }
    },
    {
      "cell_type": "code",
      "source": [
        "# 데이터 전처리\n",
        "df['날짜'] = pd.to_datetime(df['날짜'])\n",
        "df.set_index('날짜', inplace=True)\n",
        "df2['날짜'] = pd.to_datetime(df2['날짜'])\n",
        "df2.set_index('날짜', inplace=True)\n",
        "merged_df = pd.merge(df, df2, how='inner', left_index=True, right_index=True)\n",
        "merged_df.dropna(inplace=True)\n",
        "\n",
        "merged_df.rename(columns={'종가_x': '종가_BTC', '시가_x': '시가_BTC','고가_x': '고가_BTC','저가_x': '저가_BTC','거래량_x': '거래량_BTC', '종가_y': '종가_NDX', '거래량_y': '거래량_NDX'}, inplace=True)\n",
        "merged_df.drop(columns=['시가_y', '고가_y', '저가_y','변동 %_x','변동 %_y'], inplace=True)"
      ],
      "metadata": {
        "id": "rVrq9wFqibIS"
      },
      "execution_count": 7,
      "outputs": []
    },
    {
      "cell_type": "code",
      "source": [
        "merged_df['종가_BTC'] = merged_df['종가_BTC'].str.replace(',', '').astype(float)\n",
        "merged_df['시가_BTC'] = merged_df['시가_BTC'].str.replace(',', '').astype(float)\n",
        "merged_df['고가_BTC'] = merged_df['고가_BTC'].str.replace(',', '').astype(float)\n",
        "merged_df['저가_BTC'] = merged_df['저가_BTC'].str.replace(',', '').astype(float)\n",
        "merged_df['종가_NDX'] = merged_df['종가_NDX'].str.replace(',', '').astype(float)\n",
        "merged_df['거래량_NDX'] = merged_df['거래량_NDX'].str.replace('M', '').astype(float) * 1000000\n",
        "merged_df['거래량_BTC'] = merged_df['거래량_BTC'].str.replace('K', '').astype(float) * 1000\n",
        "merged_df['거래대금_BTC/USD'] = merged_df['고가_BTC'].astype(float).add(merged_df['저가_BTC'].astype(float)).div(2).mul(merged_df['거래량_BTC'])"
      ],
      "metadata": {
        "id": "ceoawE2d8U2n"
      },
      "execution_count": 8,
      "outputs": []
    },
    {
      "cell_type": "code",
      "source": [
        "# 레이블 생성\n",
        "merged_df['Updown_NDX'] = np.log(merged_df['종가_NDX']).diff().shift(-1)\n",
        "merged_df.dropna(inplace=True)\n",
        "merged_df['Label_NDX'] = np.where(merged_df['Updown_NDX'] > 0, 1, 0)\n",
        "merged_df['Updown_BTC'] = np.log(merged_df['종가_BTC']).diff().shift(-1)\n",
        "merged_df.dropna(inplace=True)\n",
        "merged_df['Label_BTC'] = np.where(merged_df['Updown_BTC'] > 0, 1, 0)"
      ],
      "metadata": {
        "id": "lBtlY7UC8Tj3"
      },
      "execution_count": 9,
      "outputs": []
    },
    {
      "cell_type": "code",
      "source": [
        "merged_df"
      ],
      "metadata": {
        "colab": {
          "base_uri": "https://localhost:8080/",
          "height": 455
        },
        "id": "ZfxUQB_I_Xsp",
        "outputId": "65004060-9a80-4fb7-a8e8-a8c226859338"
      },
      "execution_count": 10,
      "outputs": [
        {
          "output_type": "execute_result",
          "data": {
            "text/plain": [
              "             종가_BTC   시가_BTC   고가_BTC   저가_BTC  거래량_BTC    종가_NDX  \\\n",
              "날짜                                                                  \n",
              "2023-04-11  30186.0  29614.0  30343.0  29579.0   3750.0  12967.52   \n",
              "2023-04-10  29614.0  28320.0  29724.0  28159.0   2240.0  13051.23   \n",
              "2023-04-06  28018.0  28153.0  28163.0  27728.0    880.0  13062.60   \n",
              "2023-04-05  28153.0  28153.0  28750.0  27837.0   1520.0  12967.20   \n",
              "2023-04-04  28153.0  27790.0  28445.0  27671.0   1080.0  13100.08   \n",
              "...             ...      ...      ...      ...      ...       ...   \n",
              "2018-01-10  14896.0  14426.0  14896.0  13338.0  57330.0   6662.66   \n",
              "2018-01-09  14423.0  14902.0  15355.0  14122.0  43440.0   6677.94   \n",
              "2018-01-08  14930.0  16216.0  16279.0  13760.0  64950.0   6676.63   \n",
              "2018-01-05  16917.0  15159.0  17101.0  14769.0  54630.0   6653.29   \n",
              "2018-01-04  15160.0  15150.0  15390.0  14064.0  46470.0   6584.58   \n",
              "\n",
              "                거래량_NDX  거래대금_BTC/USD  Updown_NDX  Label_NDX  Updown_BTC  \\\n",
              "날짜                                                                         \n",
              "2023-04-11   70950000.0   112353750.0    0.006435          1   -0.019131   \n",
              "2023-04-10  197140000.0    64828960.0    0.000871          1   -0.055400   \n",
              "2023-04-06  229270000.0    24592040.0   -0.007330          0    0.004807   \n",
              "2023-04-05  247050000.0    43006120.0    0.010195          1    0.000000   \n",
              "2023-04-04  227520000.0    30302640.0    0.003678          1   -0.012978   \n",
              "...                 ...           ...         ...        ...         ...   \n",
              "2018-01-10  153380000.0   809327610.0    0.002291          1   -0.032269   \n",
              "2018-01-09  146930000.0   640240440.0   -0.000196          0    0.034548   \n",
              "2018-01-08  150380000.0   975516525.0   -0.003502          0    0.124946   \n",
              "2018-01-05  152650000.0   870529050.0   -0.010381          0   -0.109659   \n",
              "2018-01-04  153920000.0   684363690.0   -0.001334          0   -0.000330   \n",
              "\n",
              "            Label_BTC  \n",
              "날짜                     \n",
              "2023-04-11          0  \n",
              "2023-04-10          0  \n",
              "2023-04-06          1  \n",
              "2023-04-05          0  \n",
              "2023-04-04          0  \n",
              "...               ...  \n",
              "2018-01-10          0  \n",
              "2018-01-09          1  \n",
              "2018-01-08          1  \n",
              "2018-01-05          0  \n",
              "2018-01-04          0  \n",
              "\n",
              "[1325 rows x 12 columns]"
            ],
            "text/html": [
              "\n",
              "  <div id=\"df-70ee4adc-e5a0-410d-ac16-432a47a9ccd6\">\n",
              "    <div class=\"colab-df-container\">\n",
              "      <div>\n",
              "<style scoped>\n",
              "    .dataframe tbody tr th:only-of-type {\n",
              "        vertical-align: middle;\n",
              "    }\n",
              "\n",
              "    .dataframe tbody tr th {\n",
              "        vertical-align: top;\n",
              "    }\n",
              "\n",
              "    .dataframe thead th {\n",
              "        text-align: right;\n",
              "    }\n",
              "</style>\n",
              "<table border=\"1\" class=\"dataframe\">\n",
              "  <thead>\n",
              "    <tr style=\"text-align: right;\">\n",
              "      <th></th>\n",
              "      <th>종가_BTC</th>\n",
              "      <th>시가_BTC</th>\n",
              "      <th>고가_BTC</th>\n",
              "      <th>저가_BTC</th>\n",
              "      <th>거래량_BTC</th>\n",
              "      <th>종가_NDX</th>\n",
              "      <th>거래량_NDX</th>\n",
              "      <th>거래대금_BTC/USD</th>\n",
              "      <th>Updown_NDX</th>\n",
              "      <th>Label_NDX</th>\n",
              "      <th>Updown_BTC</th>\n",
              "      <th>Label_BTC</th>\n",
              "    </tr>\n",
              "    <tr>\n",
              "      <th>날짜</th>\n",
              "      <th></th>\n",
              "      <th></th>\n",
              "      <th></th>\n",
              "      <th></th>\n",
              "      <th></th>\n",
              "      <th></th>\n",
              "      <th></th>\n",
              "      <th></th>\n",
              "      <th></th>\n",
              "      <th></th>\n",
              "      <th></th>\n",
              "      <th></th>\n",
              "    </tr>\n",
              "  </thead>\n",
              "  <tbody>\n",
              "    <tr>\n",
              "      <th>2023-04-11</th>\n",
              "      <td>30186.0</td>\n",
              "      <td>29614.0</td>\n",
              "      <td>30343.0</td>\n",
              "      <td>29579.0</td>\n",
              "      <td>3750.0</td>\n",
              "      <td>12967.52</td>\n",
              "      <td>70950000.0</td>\n",
              "      <td>112353750.0</td>\n",
              "      <td>0.006435</td>\n",
              "      <td>1</td>\n",
              "      <td>-0.019131</td>\n",
              "      <td>0</td>\n",
              "    </tr>\n",
              "    <tr>\n",
              "      <th>2023-04-10</th>\n",
              "      <td>29614.0</td>\n",
              "      <td>28320.0</td>\n",
              "      <td>29724.0</td>\n",
              "      <td>28159.0</td>\n",
              "      <td>2240.0</td>\n",
              "      <td>13051.23</td>\n",
              "      <td>197140000.0</td>\n",
              "      <td>64828960.0</td>\n",
              "      <td>0.000871</td>\n",
              "      <td>1</td>\n",
              "      <td>-0.055400</td>\n",
              "      <td>0</td>\n",
              "    </tr>\n",
              "    <tr>\n",
              "      <th>2023-04-06</th>\n",
              "      <td>28018.0</td>\n",
              "      <td>28153.0</td>\n",
              "      <td>28163.0</td>\n",
              "      <td>27728.0</td>\n",
              "      <td>880.0</td>\n",
              "      <td>13062.60</td>\n",
              "      <td>229270000.0</td>\n",
              "      <td>24592040.0</td>\n",
              "      <td>-0.007330</td>\n",
              "      <td>0</td>\n",
              "      <td>0.004807</td>\n",
              "      <td>1</td>\n",
              "    </tr>\n",
              "    <tr>\n",
              "      <th>2023-04-05</th>\n",
              "      <td>28153.0</td>\n",
              "      <td>28153.0</td>\n",
              "      <td>28750.0</td>\n",
              "      <td>27837.0</td>\n",
              "      <td>1520.0</td>\n",
              "      <td>12967.20</td>\n",
              "      <td>247050000.0</td>\n",
              "      <td>43006120.0</td>\n",
              "      <td>0.010195</td>\n",
              "      <td>1</td>\n",
              "      <td>0.000000</td>\n",
              "      <td>0</td>\n",
              "    </tr>\n",
              "    <tr>\n",
              "      <th>2023-04-04</th>\n",
              "      <td>28153.0</td>\n",
              "      <td>27790.0</td>\n",
              "      <td>28445.0</td>\n",
              "      <td>27671.0</td>\n",
              "      <td>1080.0</td>\n",
              "      <td>13100.08</td>\n",
              "      <td>227520000.0</td>\n",
              "      <td>30302640.0</td>\n",
              "      <td>0.003678</td>\n",
              "      <td>1</td>\n",
              "      <td>-0.012978</td>\n",
              "      <td>0</td>\n",
              "    </tr>\n",
              "    <tr>\n",
              "      <th>...</th>\n",
              "      <td>...</td>\n",
              "      <td>...</td>\n",
              "      <td>...</td>\n",
              "      <td>...</td>\n",
              "      <td>...</td>\n",
              "      <td>...</td>\n",
              "      <td>...</td>\n",
              "      <td>...</td>\n",
              "      <td>...</td>\n",
              "      <td>...</td>\n",
              "      <td>...</td>\n",
              "      <td>...</td>\n",
              "    </tr>\n",
              "    <tr>\n",
              "      <th>2018-01-10</th>\n",
              "      <td>14896.0</td>\n",
              "      <td>14426.0</td>\n",
              "      <td>14896.0</td>\n",
              "      <td>13338.0</td>\n",
              "      <td>57330.0</td>\n",
              "      <td>6662.66</td>\n",
              "      <td>153380000.0</td>\n",
              "      <td>809327610.0</td>\n",
              "      <td>0.002291</td>\n",
              "      <td>1</td>\n",
              "      <td>-0.032269</td>\n",
              "      <td>0</td>\n",
              "    </tr>\n",
              "    <tr>\n",
              "      <th>2018-01-09</th>\n",
              "      <td>14423.0</td>\n",
              "      <td>14902.0</td>\n",
              "      <td>15355.0</td>\n",
              "      <td>14122.0</td>\n",
              "      <td>43440.0</td>\n",
              "      <td>6677.94</td>\n",
              "      <td>146930000.0</td>\n",
              "      <td>640240440.0</td>\n",
              "      <td>-0.000196</td>\n",
              "      <td>0</td>\n",
              "      <td>0.034548</td>\n",
              "      <td>1</td>\n",
              "    </tr>\n",
              "    <tr>\n",
              "      <th>2018-01-08</th>\n",
              "      <td>14930.0</td>\n",
              "      <td>16216.0</td>\n",
              "      <td>16279.0</td>\n",
              "      <td>13760.0</td>\n",
              "      <td>64950.0</td>\n",
              "      <td>6676.63</td>\n",
              "      <td>150380000.0</td>\n",
              "      <td>975516525.0</td>\n",
              "      <td>-0.003502</td>\n",
              "      <td>0</td>\n",
              "      <td>0.124946</td>\n",
              "      <td>1</td>\n",
              "    </tr>\n",
              "    <tr>\n",
              "      <th>2018-01-05</th>\n",
              "      <td>16917.0</td>\n",
              "      <td>15159.0</td>\n",
              "      <td>17101.0</td>\n",
              "      <td>14769.0</td>\n",
              "      <td>54630.0</td>\n",
              "      <td>6653.29</td>\n",
              "      <td>152650000.0</td>\n",
              "      <td>870529050.0</td>\n",
              "      <td>-0.010381</td>\n",
              "      <td>0</td>\n",
              "      <td>-0.109659</td>\n",
              "      <td>0</td>\n",
              "    </tr>\n",
              "    <tr>\n",
              "      <th>2018-01-04</th>\n",
              "      <td>15160.0</td>\n",
              "      <td>15150.0</td>\n",
              "      <td>15390.0</td>\n",
              "      <td>14064.0</td>\n",
              "      <td>46470.0</td>\n",
              "      <td>6584.58</td>\n",
              "      <td>153920000.0</td>\n",
              "      <td>684363690.0</td>\n",
              "      <td>-0.001334</td>\n",
              "      <td>0</td>\n",
              "      <td>-0.000330</td>\n",
              "      <td>0</td>\n",
              "    </tr>\n",
              "  </tbody>\n",
              "</table>\n",
              "<p>1325 rows × 12 columns</p>\n",
              "</div>\n",
              "      <button class=\"colab-df-convert\" onclick=\"convertToInteractive('df-70ee4adc-e5a0-410d-ac16-432a47a9ccd6')\"\n",
              "              title=\"Convert this dataframe to an interactive table.\"\n",
              "              style=\"display:none;\">\n",
              "        \n",
              "  <svg xmlns=\"http://www.w3.org/2000/svg\" height=\"24px\"viewBox=\"0 0 24 24\"\n",
              "       width=\"24px\">\n",
              "    <path d=\"M0 0h24v24H0V0z\" fill=\"none\"/>\n",
              "    <path d=\"M18.56 5.44l.94 2.06.94-2.06 2.06-.94-2.06-.94-.94-2.06-.94 2.06-2.06.94zm-11 1L8.5 8.5l.94-2.06 2.06-.94-2.06-.94L8.5 2.5l-.94 2.06-2.06.94zm10 10l.94 2.06.94-2.06 2.06-.94-2.06-.94-.94-2.06-.94 2.06-2.06.94z\"/><path d=\"M17.41 7.96l-1.37-1.37c-.4-.4-.92-.59-1.43-.59-.52 0-1.04.2-1.43.59L10.3 9.45l-7.72 7.72c-.78.78-.78 2.05 0 2.83L4 21.41c.39.39.9.59 1.41.59.51 0 1.02-.2 1.41-.59l7.78-7.78 2.81-2.81c.8-.78.8-2.07 0-2.86zM5.41 20L4 18.59l7.72-7.72 1.47 1.35L5.41 20z\"/>\n",
              "  </svg>\n",
              "      </button>\n",
              "      \n",
              "  <style>\n",
              "    .colab-df-container {\n",
              "      display:flex;\n",
              "      flex-wrap:wrap;\n",
              "      gap: 12px;\n",
              "    }\n",
              "\n",
              "    .colab-df-convert {\n",
              "      background-color: #E8F0FE;\n",
              "      border: none;\n",
              "      border-radius: 50%;\n",
              "      cursor: pointer;\n",
              "      display: none;\n",
              "      fill: #1967D2;\n",
              "      height: 32px;\n",
              "      padding: 0 0 0 0;\n",
              "      width: 32px;\n",
              "    }\n",
              "\n",
              "    .colab-df-convert:hover {\n",
              "      background-color: #E2EBFA;\n",
              "      box-shadow: 0px 1px 2px rgba(60, 64, 67, 0.3), 0px 1px 3px 1px rgba(60, 64, 67, 0.15);\n",
              "      fill: #174EA6;\n",
              "    }\n",
              "\n",
              "    [theme=dark] .colab-df-convert {\n",
              "      background-color: #3B4455;\n",
              "      fill: #D2E3FC;\n",
              "    }\n",
              "\n",
              "    [theme=dark] .colab-df-convert:hover {\n",
              "      background-color: #434B5C;\n",
              "      box-shadow: 0px 1px 3px 1px rgba(0, 0, 0, 0.15);\n",
              "      filter: drop-shadow(0px 1px 2px rgba(0, 0, 0, 0.3));\n",
              "      fill: #FFFFFF;\n",
              "    }\n",
              "  </style>\n",
              "\n",
              "      <script>\n",
              "        const buttonEl =\n",
              "          document.querySelector('#df-70ee4adc-e5a0-410d-ac16-432a47a9ccd6 button.colab-df-convert');\n",
              "        buttonEl.style.display =\n",
              "          google.colab.kernel.accessAllowed ? 'block' : 'none';\n",
              "\n",
              "        async function convertToInteractive(key) {\n",
              "          const element = document.querySelector('#df-70ee4adc-e5a0-410d-ac16-432a47a9ccd6');\n",
              "          const dataTable =\n",
              "            await google.colab.kernel.invokeFunction('convertToInteractive',\n",
              "                                                     [key], {});\n",
              "          if (!dataTable) return;\n",
              "\n",
              "          const docLinkHtml = 'Like what you see? Visit the ' +\n",
              "            '<a target=\"_blank\" href=https://colab.research.google.com/notebooks/data_table.ipynb>data table notebook</a>'\n",
              "            + ' to learn more about interactive tables.';\n",
              "          element.innerHTML = '';\n",
              "          dataTable['output_type'] = 'display_data';\n",
              "          await google.colab.output.renderOutput(dataTable, element);\n",
              "          const docLink = document.createElement('div');\n",
              "          docLink.innerHTML = docLinkHtml;\n",
              "          element.appendChild(docLink);\n",
              "        }\n",
              "      </script>\n",
              "    </div>\n",
              "  </div>\n",
              "  "
            ]
          },
          "metadata": {},
          "execution_count": 10
        }
      ]
    },
    {
      "cell_type": "code",
      "source": [
        "# MACD\n",
        "def fnMACD(m_Df, m_NumFast=12, m_NumSlow=26, m_NumSignal=9):\n",
        "    m_Df['EMAFast'] = m_Df['종가_BTC'].ewm( span = m_NumFast, min_periods = m_NumFast - 1).mean()\n",
        "    m_Df['EMASlow'] = m_Df['종가_BTC'].ewm( span = m_NumSlow, min_periods = m_NumSlow - 1).mean()\n",
        "    m_Df['MACD'] = m_Df['EMAFast'] - m_Df['EMASlow']\n",
        "    m_Df['MACDSignal'] = m_Df['MACD'].ewm( span = m_NumSignal, min_periods = m_NumSignal-1).mean()\n",
        "    m_Df['MACDDiff'] = m_Df['MACD'] - m_Df['MACDSignal']\n",
        "    return m_Df\n",
        "\n",
        "# Fast %K = ((현재가 - n기간 중 최저가) / (n기간 중 최고가 - n기간 중 최저가)) * 100\n",
        "def get_stochastic_fast_k(close_price, low, high, n=15):\n",
        "    fast_k = ((close_price - low.rolling(n).min()) / (high.rolling(n).max() - low.rolling(n).min())) * 100\n",
        "    return fast_k\n",
        "\n",
        "# Slow %K = Fast %K의 m기간 이동평균(SMA)\n",
        "def get_stochastic_slow_k(fast_k, n=5):\n",
        "    slow_k = fast_k.rolling(n).mean()\n",
        "    return slow_k\n",
        "\n",
        "# Slow %D = Slow %K의 t기간 이동평균(SMA)\n",
        "def get_stochastic_slow_d(slow_k, n=3):\n",
        "    slow_d = slow_k.rolling(n).mean()\n",
        "    return slow_d\n",
        "\n",
        "# RSI함수\n",
        "def get_rsi(close_price, period=14):\n",
        "    diff = close_price.diff(1)\n",
        "    gain = diff.where(diff > 0, 0)\n",
        "    loss = -diff.where(diff < 0, 0)\n",
        "    avg_gain = gain.rolling(period).mean()\n",
        "    avg_loss = loss.rolling(period).mean()\n",
        "    rs = avg_gain / avg_loss\n",
        "    rsi = 100 - (100 / (1 + rs))\n",
        "    return rsi"
      ],
      "metadata": {
        "id": "D2RMyZiHBlYN"
      },
      "execution_count": 23,
      "outputs": []
    },
    {
      "cell_type": "code",
      "source": [
        "# 보기쉽게 df로 수정\n",
        "df = merged_df\n",
        "\n",
        "# MACD 계산\n",
        "df = fnMACD(df)\n",
        "\n",
        "# 스토캐스틱 지표 계산\n",
        "df['fast_k'] = get_stochastic_fast_k(df['종가_BTC'], df['저가_BTC'], df['고가_BTC'])\n",
        "df['slow_k'] = get_stochastic_slow_k(df['fast_k'])\n",
        "df['slow_d'] = get_stochastic_slow_d(df['slow_k'])\n",
        "\n",
        "# RSI 지표 계산\n",
        "df['rsi'] = get_rsi(df['종가_BTC'])\n",
        "\n",
        "# 이동평균 계산, 볼린저밴드 상단 하단\n",
        "df['ma5'] = df['종가_BTC'].rolling(window=5).mean()\n",
        "df['ma20'] = df['종가_BTC'].rolling(window=20).mean() # 20일 이동평균\n",
        "df['ma60'] = df['종가_BTC'].rolling(window=60).mean() # 60일 이동평균\n",
        "df['stddev'] = df['종가_BTC'].rolling(window=5).std() # 5일 이동표준편차\n",
        "df['upper'] = df['ma20'] + 2*df['stddev'] # 상단밴드\n",
        "df['lower'] = df['ma20'] - 2*df['stddev'] # 하단밴드\n",
        "\n",
        "#종가_BTC를 1일 전 종가(close_shift)와 2일 전 종가(close_shift2)로 shift합니다.\n",
        "df['close_shift'] = df['종가_BTC'].shift(1)\n",
        "df['close_shift2'] = df['종가_BTC'].shift(2)\n",
        "\n",
        "#현재 가격(high)이 볼린저 밴드의 상단밴드(upper)보다 얼마나 낮은지와, 현재 가격(low)이 볼린저 밴드의 하단밴드(lower)보다 얼마나 낮은지를 계산합니다.\n",
        "df['upper_down'] = df['upper'] - df['고가_BTC']\n",
        "df['lower_down'] = df['lower'] - df['저가_BTC']\n",
        "\n",
        "df = df.dropna()"
      ],
      "metadata": {
        "id": "2W_UMZWpD3N5"
      },
      "execution_count": 24,
      "outputs": []
    },
    {
      "cell_type": "code",
      "source": [
        "df.info()"
      ],
      "metadata": {
        "colab": {
          "base_uri": "https://localhost:8080/"
        },
        "id": "M-FH4CSrANQx",
        "outputId": "00a3399d-a510-4517-86ad-b49c6d79e4e1"
      },
      "execution_count": 25,
      "outputs": [
        {
          "output_type": "stream",
          "name": "stdout",
          "text": [
            "<class 'pandas.core.frame.DataFrame'>\n",
            "DatetimeIndex: 1266 entries, 2023-01-13 to 2018-01-04\n",
            "Data columns (total 31 columns):\n",
            " #   Column        Non-Null Count  Dtype  \n",
            "---  ------        --------------  -----  \n",
            " 0   종가_BTC        1266 non-null   float64\n",
            " 1   시가_BTC        1266 non-null   float64\n",
            " 2   고가_BTC        1266 non-null   float64\n",
            " 3   저가_BTC        1266 non-null   float64\n",
            " 4   거래량_BTC       1266 non-null   float64\n",
            " 5   종가_NDX        1266 non-null   float64\n",
            " 6   거래량_NDX       1266 non-null   float64\n",
            " 7   거래대금_BTC/USD  1266 non-null   float64\n",
            " 8   Updown_NDX    1266 non-null   float64\n",
            " 9   Label_NDX     1266 non-null   int64  \n",
            " 10  Updown_BTC    1266 non-null   float64\n",
            " 11  Label_BTC     1266 non-null   int64  \n",
            " 12  EMAFast       1266 non-null   float64\n",
            " 13  EMASlow       1266 non-null   float64\n",
            " 14  MACD          1266 non-null   float64\n",
            " 15  MACDSignal    1266 non-null   float64\n",
            " 16  MACDDiff      1266 non-null   float64\n",
            " 17  fast_k        1266 non-null   float64\n",
            " 18  slow_k        1266 non-null   float64\n",
            " 19  slow_d        1266 non-null   float64\n",
            " 20  rsi           1266 non-null   float64\n",
            " 21  ma5           1266 non-null   float64\n",
            " 22  ma20          1266 non-null   float64\n",
            " 23  ma60          1266 non-null   float64\n",
            " 24  stddev        1266 non-null   float64\n",
            " 25  upper         1266 non-null   float64\n",
            " 26  lower         1266 non-null   float64\n",
            " 27  close_shift   1266 non-null   float64\n",
            " 28  close_shift2  1266 non-null   float64\n",
            " 29  upper_down    1266 non-null   float64\n",
            " 30  lower_down    1266 non-null   float64\n",
            "dtypes: float64(29), int64(2)\n",
            "memory usage: 316.5 KB\n"
          ]
        }
      ]
    },
    {
      "cell_type": "code",
      "source": [
        "df['Label_BTC'].value_counts()"
      ],
      "metadata": {
        "colab": {
          "base_uri": "https://localhost:8080/"
        },
        "id": "AEaG-ei6Glyh",
        "outputId": "80df4a82-11fe-4f47-b331-b4ca57773dc0"
      },
      "execution_count": 26,
      "outputs": [
        {
          "output_type": "execute_result",
          "data": {
            "text/plain": [
              "0    654\n",
              "1    612\n",
              "Name: Label_BTC, dtype: int64"
            ]
          },
          "metadata": {},
          "execution_count": 26
        }
      ]
    },
    {
      "cell_type": "code",
      "source": [
        "# baseline score을 확인합니다.\n",
        "print(\"Baseline Score:\", df['Label_BTC'].value_counts(normalize=True).max())"
      ],
      "metadata": {
        "colab": {
          "base_uri": "https://localhost:8080/"
        },
        "id": "ygRPsodINJ0S",
        "outputId": "da586c9f-10a9-49d6-b1fb-e3658097f378"
      },
      "execution_count": 27,
      "outputs": [
        {
          "output_type": "stream",
          "name": "stdout",
          "text": [
            "Baseline Score: 0.5165876777251185\n"
          ]
        }
      ]
    },
    {
      "cell_type": "code",
      "metadata": {
        "id": "EcctntfcFCCe"
      },
      "source": [
        "# Feature와 Target 변수 지정\n",
        "X = df.drop(['Label_BTC','Updown_BTC','Updown_NDX'], axis=1)\n",
        "y = df['Label_BTC']\n",
        "\n",
        "# Train, Validation, Test Set 나누기\n",
        "X_train_val, X_test, y_train_val, y_test = train_test_split(X, y, test_size=0.2, random_state=2, stratify=y)\n",
        "X_train, X_val, y_train, y_val = train_test_split(X_train_val, y_train_val, test_size=0.3, random_state=2, stratify=y_train_val)"
      ],
      "execution_count": 28,
      "outputs": []
    },
    {
      "cell_type": "code",
      "source": [
        "from sklearn.model_selection import GridSearchCV, StratifiedKFold\n",
        "from sklearn.metrics.cluster import entropy\n",
        "from sklearn.utils import shuffle\n",
        "\n",
        "# 모델 학습을 위한 데이터 셔플링\n",
        "X_train_val, y_train_val = shuffle(X_train_val, y_train_val, random_state=2)\n",
        "\n",
        "# Random Forest Classifier 모델 정의\n",
        "rf = RandomForestClassifier(random_state=2)\n",
        "\n",
        "# GridSearchCV를 이용해 최적의 하이퍼파라미터 찾기\n",
        "param_grid = {\n",
        "    'n_estimators': [50, 100, 200],\n",
        "    'max_depth': [10, 20, None],\n",
        "    'min_samples_split': [5, 7, 10],\n",
        "    'min_samples_leaf': [1, 2, 3],\n",
        "    'bootstrap': [True, False],\n",
        "    'criterion': ['gini', 'entropy']\n",
        "}\n",
        "\n",
        "# 5-fold 교차 검증 적용\n",
        "cv = StratifiedKFold(n_splits=5, shuffle=True, random_state=2)\n",
        "grid_search = GridSearchCV(rf, param_grid=param_grid, cv=cv, scoring='f1', n_jobs=-1)\n",
        "best_rf = None\n",
        "best_score = 0\n",
        "\n",
        "# 최적의 하이퍼파라미터 찾기\n",
        "for i, (train_idx, val_idx) in enumerate(cv.split(X_train_val, y_train_val)):\n",
        "    X_train_cv, y_train_cv = X_train_val.iloc[train_idx], y_train_val.iloc[train_idx]\n",
        "    X_val_cv, y_val_cv = X_train_val.iloc[val_idx], y_train_val.iloc[val_idx]\n",
        "\n",
        "    grid_search.fit(X_train_cv, y_train_cv)\n",
        "\n",
        "    print(f\"Fold {i+1} - Best Params: {grid_search.best_params_}, Best Score: {grid_search.best_score_}\")\n",
        "    \n",
        "    # 조기 종료\n",
        "    if grid_search.best_score_ > best_score:\n",
        "        best_rf = grid_search.best_estimator_\n",
        "        best_score = grid_search.best_score_\n",
        "    else:\n",
        "        break"
      ],
      "metadata": {
        "colab": {
          "base_uri": "https://localhost:8080/"
        },
        "id": "BWLv6AZbHPhV",
        "outputId": "06fbd419-72d5-4795-c22a-40fe7cf575c6"
      },
      "execution_count": 17,
      "outputs": [
        {
          "output_type": "stream",
          "name": "stdout",
          "text": [
            "Fold 1 - Best Params: {'bootstrap': True, 'criterion': 'entropy', 'max_depth': 10, 'min_samples_leaf': 1, 'min_samples_split': 10, 'n_estimators': 100}, Best Score: 0.5960733762195498\n",
            "Fold 2 - Best Params: {'bootstrap': False, 'criterion': 'gini', 'max_depth': None, 'min_samples_leaf': 2, 'min_samples_split': 10, 'n_estimators': 50}, Best Score: 0.5957955708006721\n"
          ]
        }
      ]
    },
    {
      "cell_type": "code",
      "source": [
        "# 최적의 하이퍼파라미터로 모델 재학습 및 예측\n",
        "best_rf.fit(X_train, y_train)\n",
        "\n",
        "y_pred_train = best_rf.predict(X_train)\n",
        "y_pred_val = best_rf.predict(X_val)\n",
        "y_pred_test = best_rf.predict(X_test)\n",
        "\n",
        "# 정확도, F1-score 계산\n",
        "train_acc = accuracy_score(y_train, y_pred_train)\n",
        "train_f1 = f1_score(y_train, y_pred_train)\n",
        "val_acc = accuracy_score(y_val, y_pred_val)\n",
        "val_f1 = f1_score(y_val, y_pred_val)\n",
        "test_acc = accuracy_score(y_test, y_pred_test)\n",
        "test_f1 = f1_score(y_test, y_pred_test)\n",
        "\n",
        "print(f'Train Accuracy: {train_acc:.3f}, Train F1-score: {train_f1:.3f}')\n",
        "print(f'Validation Accuracy: {val_acc:.3f}, Validation F1-score: {val_f1:.3f}')\n",
        "print(f'Test Accuracy: {test_acc:.3f}, Test F1-score: {test_f1:.3f}')"
      ],
      "metadata": {
        "colab": {
          "base_uri": "https://localhost:8080/"
        },
        "id": "ATQQXgpHHRGy",
        "outputId": "9e4b7bcd-cab1-43e4-94ea-7a76da88745a"
      },
      "execution_count": 18,
      "outputs": [
        {
          "output_type": "stream",
          "name": "stdout",
          "text": [
            "Train Accuracy: 0.975, Train F1-score: 0.974\n",
            "Validation Accuracy: 0.628, Validation F1-score: 0.598\n",
            "Test Accuracy: 0.602, Test F1-score: 0.584\n"
          ]
        }
      ]
    },
    {
      "cell_type": "code",
      "source": [
        "# Feature Importance 계산\n",
        "feature_importances = best_rf.feature_importances_\n",
        "feature_names = X_train.columns.tolist()\n",
        "feature_df = pd.DataFrame({'Feature': feature_names, 'Importance': feature_importances})\n",
        "feature_df = feature_df.sort_values(by='Importance', ascending=False)\n",
        "\n",
        "print(feature_df)"
      ],
      "metadata": {
        "colab": {
          "base_uri": "https://localhost:8080/"
        },
        "id": "ZTV8b-3pHUTB",
        "outputId": "1f5b6c98-47c5-457c-d965-d7da52e9ece5"
      },
      "execution_count": 19,
      "outputs": [
        {
          "output_type": "stream",
          "name": "stdout",
          "text": [
            "         Feature  Importance\n",
            "14        fast_k    0.082871\n",
            "27    lower_down    0.066431\n",
            "26    upper_down    0.060740\n",
            "6        거래량_NDX    0.049799\n",
            "1         시가_BTC    0.049212\n",
            "4        거래량_BTC    0.047722\n",
            "15        slow_k    0.043305\n",
            "16        slow_d    0.040468\n",
            "13      MACDDiff    0.040039\n",
            "7   거래대금_BTC/USD    0.039975\n",
            "5         종가_NDX    0.038127\n",
            "17           rsi    0.037377\n",
            "0         종가_BTC    0.036094\n",
            "11          MACD    0.034415\n",
            "21        stddev    0.033687\n",
            "12    MACDSignal    0.029478\n",
            "8      Label_NDX    0.026647\n",
            "20          ma60    0.026198\n",
            "3         저가_BTC    0.024863\n",
            "23         lower    0.024668\n",
            "25  close_shift2    0.022488\n",
            "10       EMASlow    0.022318\n",
            "22         upper    0.021990\n",
            "2         고가_BTC    0.021577\n",
            "24   close_shift    0.021363\n",
            "19          ma20    0.019781\n",
            "9        EMAFast    0.019411\n",
            "18           ma5    0.018955\n"
          ]
        }
      ]
    },
    {
      "cell_type": "code",
      "source": [
        "import matplotlib.pyplot as plt\n",
        "\n",
        "# Create a list of tuples with feature names and importances\n",
        "feature_importances = list(\n",
        "    zip(X_train.columns, best_rf.feature_importances_)\n",
        ")\n",
        "# Sort the list of tuples by importance (in descending order)\n",
        "feature_importances = sorted(feature_importances, key=lambda x: x[1], reverse=True)\n",
        "\n",
        "# Create a horizontal bar chart\n",
        "plt.figure(figsize=(10, 10), dpi=120)\n",
        "plt.barh(*zip(*feature_importances[::-1]))\n",
        "plt.xlabel(\"Feature importance\")\n",
        "plt.axvline(0.015, color=\"red\", linewidth=0.5)\n",
        "plt.show()"
      ],
      "metadata": {
        "colab": {
          "base_uri": "https://localhost:8080/",
          "height": 1000
        },
        "id": "KdQwajtOK2GB",
        "outputId": "a7f03864-b8da-40ed-a384-72d3cb721617"
      },
      "execution_count": 20,
      "outputs": [
        {
          "output_type": "display_data",
          "data": {
            "text/plain": [
              "<Figure size 1200x1200 with 1 Axes>"
            ],
            "image/png": "[encoded data removed]"
          },
          "metadata": {}
        }
      ]
    },
    {
      "cell_type": "code",
      "source": [
        "import shap\n",
        "\n",
        "# SHAP value 계산\n",
        "explainer = shap.TreeExplainer(best_rf)\n",
        "shap_values = explainer.shap_values(X_train)\n",
        "\n",
        "# SHAP summary plot 그리기\n",
        "shap.summary_plot(shap_values, X_train)"
      ],
      "metadata": {
        "colab": {
          "base_uri": "https://localhost:8080/",
          "height": 956
        },
        "id": "n_QJMk3pexLZ",
        "outputId": "a8a7f782-bf7a-49dd-baba-c6aaa0fcfeb6"
      },
      "execution_count": 21,
      "outputs": [
        {
          "output_type": "display_data",
          "data": {
            "text/plain": [
              "<Figure size 800x950 with 1 Axes>"
            ],
            "image/png": "[encoded data removed]"
          },
          "metadata": {}
        }
      ]
    },
    {
      "cell_type": "code",
      "source": [
        "from sklearn.metrics import confusion_matrix\n",
        "import seaborn as sns\n",
        "import matplotlib.pyplot as plt\n",
        "\n",
        "# 예측 결과와 실제 레이블을 기반으로 confusion matrix 계산\n",
        "cm = confusion_matrix(y_test, y_pred_test)\n",
        "\n",
        "# heatmap으로 confusion matrix 시각화\n",
        "sns.heatmap(cm, annot=True, fmt='d', cmap='Blues')\n",
        "plt.xlabel('Predicted')\n",
        "plt.ylabel('Actual')\n",
        "plt.show()"
      ],
      "metadata": {
        "colab": {
          "base_uri": "https://localhost:8080/",
          "height": 449
        },
        "id": "SVgS3C2GiiXB",
        "outputId": "00b9a0e2-ce9b-4ab4-b5f4-8cf381e8a196"
      },
      "execution_count": 22,
      "outputs": [
        {
          "output_type": "display_data",
          "data": {
            "text/plain": [
              "<Figure size 640x480 with 2 Axes>"
            ],
            "image/png": "[encoded data removed]"
          },
          "metadata": {}
        }
      ]
    }
  ]
}